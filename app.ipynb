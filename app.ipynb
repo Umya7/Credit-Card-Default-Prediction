{
 "cells": [
  {
   "cell_type": "code",
   "execution_count": null,
   "metadata": {},
   "outputs": [],
   "source": [
    "import numpy as np\n",
    "from flask import Flask, request, jsonify, render_template\n",
    "import pickle\n",
    "\n",
    "app = Flask(__name__)\n",
    "model = pickle.load(open('model.pkl', 'rb'))\n",
    "\n",
    "@app.route('/')\n",
    "def home():\n",
    "    return render_template('index.html')\n",
    "\n",
    "@app.route('/predict', methods=['POST'])\n",
    "def predict():\n",
    "    '''\n",
    "    for rendering results on HTML\n",
    "    '''\n",
    "    features = [int(x) for x in request.form.values()]\n",
    "\n",
    "    # re-arranging the list as per data set\n",
    "    feature_list = [features[4]] + features[:4] + features[5:11][::-1] + features[11:17][::-1] + features[17:][::-1]\n",
    "    features_arr = [np.array(feature_list)]\n",
    "\n",
    "    prediction = model.predict(features_arr)\n",
    "\n",
    "    print(features_arr)\n",
    "    print(\"prediction value: \", prediction)\n",
    "\n",
    "    result = \"\"\n",
    "    if prediction == 1:\n",
    "        result = \"The credit card holder will be Defaulter in the next month\"\n",
    "    else:\n",
    "        result = \"The Credit card holder will not be Defaulter in the next month\"\n",
    "\n",
    "    return render_template('index.html', prediction_text = result)\n",
    "\n",
    "\n",
    "if __name__ == '__main__':\n",
    "    app.run(debug=True)"
   ]
  }
 ],
 "metadata": {
  "kernelspec": {
   "display_name": "Python 3",
   "language": "python",
   "name": "python3"
  },
  "language_info": {
   "codemirror_mode": {
    "name": "ipython",
    "version": 3
   },
   "file_extension": ".py",
   "mimetype": "text/x-python",
   "name": "python",
   "nbconvert_exporter": "python",
   "pygments_lexer": "ipython3",
   "version": "3.8.8"
  }
 },
 "nbformat": 4,
 "nbformat_minor": 4
}
